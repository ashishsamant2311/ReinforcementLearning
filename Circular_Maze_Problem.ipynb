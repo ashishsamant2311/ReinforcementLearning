{
 "cells": [
  {
   "cell_type": "code",
   "execution_count": 1,
   "metadata": {
    "id": "JUcAE8P_FyB1"
   },
   "outputs": [],
   "source": [
    "import numpy as np\n",
    "import pandas as pd"
   ]
  },
  {
   "cell_type": "code",
   "execution_count": 71,
   "metadata": {
    "id": "koB4KavrGIcI"
   },
   "outputs": [],
   "source": [
    "# Create the State Action Reward Matrix\n",
    "\n",
    "R = pd.read_excel('Maze_upd.xlsx',header=None)"
   ]
  },
  {
   "cell_type": "code",
   "execution_count": 72,
   "metadata": {
    "colab": {
     "base_uri": "https://localhost:8080/"
    },
    "id": "E9BAMaejGLKx",
    "outputId": "4188e8ce-bb3f-4ad7-c29a-3367dbf613c2"
   },
   "outputs": [
    {
     "data": {
      "text/plain": [
       "matrix([[ -1,   0,  -1, ...,  -1,  -1,  -1],\n",
       "        [  0,  -1,  -1, ...,  -1,  -1,  -1],\n",
       "        [ -1,  -1,  -1, ...,  -1,  -1,  -1],\n",
       "        ...,\n",
       "        [ -1,  -1,  -1, ...,  -1,  -1,  -1],\n",
       "        [ -1,  -1,  -1, ...,  -1,  -1,  -1],\n",
       "        [ -1,  -1,  -1, ...,  -1,  -1, 100]])"
      ]
     },
     "execution_count": 72,
     "metadata": {},
     "output_type": "execute_result"
    }
   ],
   "source": [
    "R = np.matrix(R)\n",
    "R"
   ]
  },
  {
   "cell_type": "code",
   "execution_count": 73,
   "metadata": {
    "id": "uBsP8f4zGObr"
   },
   "outputs": [],
   "source": [
    "# Initialize the Q matrix with zeros\n",
    "\n",
    "Q = np.zeros([50,50])"
   ]
  },
  {
   "cell_type": "code",
   "execution_count": 57,
   "metadata": {
    "colab": {
     "base_uri": "https://localhost:8080/"
    },
    "id": "jPzeUa01GS4T",
    "outputId": "0e7f3f7d-4f39-4c9d-910b-8c9da5db0006"
   },
   "outputs": [
    {
     "data": {
      "text/plain": [
       "array([[0., 0., 0., ..., 0., 0., 0.],\n",
       "       [0., 0., 0., ..., 0., 0., 0.],\n",
       "       [0., 0., 0., ..., 0., 0., 0.],\n",
       "       ...,\n",
       "       [0., 0., 0., ..., 0., 0., 0.],\n",
       "       [0., 0., 0., ..., 0., 0., 0.],\n",
       "       [0., 0., 0., ..., 0., 0., 0.]])"
      ]
     },
     "execution_count": 57,
     "metadata": {},
     "output_type": "execute_result"
    }
   ],
   "source": [
    "Q"
   ]
  },
  {
   "cell_type": "code",
   "execution_count": 74,
   "metadata": {
    "id": "_Wh3EZ_sGUP6"
   },
   "outputs": [],
   "source": [
    "# Set Gamma parameter\n",
    "\n",
    "gamma = 0.7"
   ]
  },
  {
   "cell_type": "code",
   "execution_count": 59,
   "metadata": {
    "id": "M21tqU9LGaC_"
   },
   "outputs": [],
   "source": [
    "# Initialize state for the mouse ( We will later make this selection random)\n",
    "\n",
    "initial_state = 0"
   ]
  },
  {
   "cell_type": "code",
   "execution_count": 75,
   "metadata": {
    "id": "jt8La39CGqzS"
   },
   "outputs": [],
   "source": [
    "# Create a custom function that returns all available actions in the state passed as an argument\n",
    "\n",
    "def avl_actions(state):\n",
    "  current_state_row = R[state,]\n",
    "  av_act = np.where(current_state_row >= 0)[1]\n",
    "  return av_act"
   ]
  },
  {
   "cell_type": "code",
   "execution_count": 61,
   "metadata": {
    "colab": {
     "base_uri": "https://localhost:8080/"
    },
    "id": "mR5cWP7h6r0w",
    "outputId": "6029fbc2-a959-46dd-d185-6339417bc011"
   },
   "outputs": [
    {
     "data": {
      "text/plain": [
       "array([5, 6])"
      ]
     },
     "execution_count": 61,
     "metadata": {},
     "output_type": "execute_result"
    }
   ],
   "source": [
    "np.where(R[2,] >= 0)[1]"
   ]
  },
  {
   "cell_type": "code",
   "execution_count": 62,
   "metadata": {
    "id": "ytinfHwEHDj6"
   },
   "outputs": [],
   "source": [
    "# Get the available actions in current state = 2\n",
    "\n",
    "available_act = avl_actions(initial_state)"
   ]
  },
  {
   "cell_type": "code",
   "execution_count": 63,
   "metadata": {
    "colab": {
     "base_uri": "https://localhost:8080/"
    },
    "id": "cDUCZyS3HFvJ",
    "outputId": "72931b05-4dc5-4036-cd30-2946133530f0"
   },
   "outputs": [
    {
     "data": {
      "text/plain": [
       "array([1])"
      ]
     },
     "execution_count": 63,
     "metadata": {},
     "output_type": "execute_result"
    }
   ],
   "source": [
    "available_act"
   ]
  },
  {
   "cell_type": "code",
   "execution_count": 76,
   "metadata": {
    "id": "_LucU_8jHHqS"
   },
   "outputs": [],
   "source": [
    "# Next , we construct a function which chooses a random action to be performed within the range of all avl actions\n",
    "\n",
    "\n",
    "def sample_next_action(available_actions_range):\n",
    "  next_action = int(np.random.choice(available_actions_range,1))\n",
    "  return next_action"
   ]
  },
  {
   "cell_type": "code",
   "execution_count": 65,
   "metadata": {
    "colab": {
     "base_uri": "https://localhost:8080/"
    },
    "id": "Lsug8NE1Ilpd",
    "outputId": "627de0cc-b5ce-4f4f-cfc0-fc455086fd0b"
   },
   "outputs": [
    {
     "data": {
      "text/plain": [
       "1"
      ]
     },
     "execution_count": 65,
     "metadata": {},
     "output_type": "execute_result"
    }
   ],
   "source": [
    "action = sample_next_action(available_act)\n",
    "action"
   ]
  },
  {
   "cell_type": "code",
   "execution_count": 77,
   "metadata": {
    "id": "Gwzf3SBuKxvm"
   },
   "outputs": [],
   "source": [
    "# Now, we update the Q matrix according to the path selected using the Q learning algorithm formula\n",
    "\n",
    "def update(current_state,action,gamma):\n",
    "  max_index = np.where(Q[action,] == np.max(Q[action,]))[0]\n",
    "\n",
    "  if max_index.shape[0] > 1:\n",
    "    max_index = int(np.random.choice(max_index,1))\n",
    "\n",
    "  else:\n",
    "    max_index = int(max_index)\n",
    "\n",
    "  max_value = Q[action,max_index]\n",
    "\n",
    "  # Q-learning formula\n",
    "  Q[current_state,action] = R[current_state,action] + gamma*max_value"
   ]
  },
  {
   "cell_type": "code",
   "execution_count": 78,
   "metadata": {
    "id": "ykb1UP2qLJWV"
   },
   "outputs": [],
   "source": [
    "# Update the Q matrix\n",
    "update(initial_state,action,gamma)"
   ]
  },
  {
   "cell_type": "code",
   "execution_count": 79,
   "metadata": {
    "colab": {
     "base_uri": "https://localhost:8080/"
    },
    "id": "dZX733w5NG5X",
    "outputId": "90d7dd12-7284-4945-fce8-49770490a32a"
   },
   "outputs": [
    {
     "data": {
      "text/plain": [
       "array([[0., 0., 0., ..., 0., 0., 0.],\n",
       "       [0., 0., 0., ..., 0., 0., 0.],\n",
       "       [0., 0., 0., ..., 0., 0., 0.],\n",
       "       ...,\n",
       "       [0., 0., 0., ..., 0., 0., 0.],\n",
       "       [0., 0., 0., ..., 0., 0., 0.],\n",
       "       [0., 0., 0., ..., 0., 0., 0.]])"
      ]
     },
     "execution_count": 79,
     "metadata": {},
     "output_type": "execute_result"
    }
   ],
   "source": [
    "Q"
   ]
  },
  {
   "cell_type": "code",
   "execution_count": 28,
   "metadata": {
    "colab": {
     "base_uri": "https://localhost:8080/"
    },
    "id": "EtwrcH-aBOIb",
    "outputId": "923773b2-1f09-45da-eae6-4f33ee129712"
   },
   "outputs": [
    {
     "data": {
      "text/plain": [
       "2"
      ]
     },
     "execution_count": 28,
     "metadata": {},
     "output_type": "execute_result"
    }
   ],
   "source": [
    "state=np.random.randint(0,9)\n",
    "state"
   ]
  },
  {
   "cell_type": "code",
   "execution_count": 80,
   "metadata": {
    "id": "KT3JakKeCPbh"
   },
   "outputs": [],
   "source": [
    "for i in range(0,100000):\n",
    "  state=np.random.randint(0,49)\n",
    "  available_act = avl_actions(state)\n",
    "  action = sample_next_action(available_act)\n",
    "  update(state,action,gamma)\n"
   ]
  },
  {
   "cell_type": "code",
   "execution_count": 81,
   "metadata": {
    "colab": {
     "base_uri": "https://localhost:8080/"
    },
    "id": "6fraSNaSC2kC",
    "outputId": "d39f8b8a-7ebc-469d-976a-53244e983fb9"
   },
   "outputs": [
    {
     "data": {
      "text/plain": [
       "array([[0.        , 0.23263051, 0.        , ..., 0.        , 0.        ,\n",
       "        0.        ],\n",
       "       [0.16284136, 0.        , 0.        , ..., 0.        , 0.        ,\n",
       "        0.        ],\n",
       "       [0.        , 0.        , 0.        , ..., 0.        , 0.        ,\n",
       "        0.        ],\n",
       "       ...,\n",
       "       [0.        , 0.        , 0.        , ..., 0.        , 0.        ,\n",
       "        0.        ],\n",
       "       [0.        , 0.        , 0.        , ..., 0.        , 0.        ,\n",
       "        0.        ],\n",
       "       [0.        , 0.        , 0.        , ..., 0.        , 0.        ,\n",
       "        0.        ]])"
      ]
     },
     "execution_count": 81,
     "metadata": {},
     "output_type": "execute_result"
    }
   ],
   "source": [
    "Q"
   ]
  },
  {
   "cell_type": "code",
   "execution_count": 86,
   "metadata": {
    "colab": {
     "base_uri": "https://localhost:8080/"
    },
    "id": "SWPBpQMVnHch",
    "outputId": "086a3d2a-6d9a-403d-d020-f603bbde18db"
   },
   "outputs": [
    {
     "data": {
      "text/plain": [
       "array([0.       , 0.       , 0.       , 0.       , 0.       , 0.       ,\n",
       "       0.       , 0.       , 0.       , 0.       , 0.       , 0.       ,\n",
       "       0.       , 0.       , 0.       , 0.       , 0.       , 0.       ,\n",
       "       0.       , 0.       , 0.       , 0.       , 0.       , 0.       ,\n",
       "       0.       , 0.       , 0.       , 0.       , 0.       , 0.       ,\n",
       "       0.       , 0.       , 0.       , 0.       , 0.       , 0.       ,\n",
       "       0.       , 0.       , 0.       , 0.       , 0.       , 0.       ,\n",
       "       4.0353607, 8.23543  , 0.       , 0.       , 0.       , 0.       ,\n",
       "       0.       , 0.       ])"
      ]
     },
     "execution_count": 86,
     "metadata": {},
     "output_type": "execute_result"
    }
   ],
   "source": [
    "Q[27]"
   ]
  },
  {
   "cell_type": "code",
   "execution_count": 87,
   "metadata": {
    "colab": {
     "base_uri": "https://localhost:8080/"
    },
    "id": "Gvid2KHeF56I",
    "outputId": "b8568b04-42f0-4a8a-996c-e65d5fc3bf9a"
   },
   "outputs": [
    {
     "name": "stdout",
     "output_type": "stream",
     "text": [
      "1\n",
      "4\n",
      "12\n",
      "5\n",
      "2\n",
      "6\n",
      "13\n",
      "25\n",
      "42\n",
      "27\n",
      "43\n",
      "29\n",
      "15\n",
      "31\n",
      "16\n",
      "32\n",
      "45\n",
      "49\n",
      "The selected path:\n",
      "[0, 1, 4, 12, 5, 2, 6, 13, 25, 42, 27, 43, 29, 15, 31, 16, 32, 45, 49]\n"
     ]
    }
   ],
   "source": [
    "current_state = 0\n",
    "steps = [current_state]\n",
    "\n",
    "while current_state != 49:\n",
    "  next_step_index = np.where(Q[current_state,] == np.max(Q[current_state,]))[0]\n",
    "\n",
    "  if next_step_index.shape[0] > 1:\n",
    "    next_step_index = int(np.random.choice(next_step_index, 1))\n",
    "\n",
    "  else:\n",
    "    next_step_index = int(next_step_index)\n",
    "\n",
    "  steps.append(next_step_index)\n",
    "  current_state = next_step_index\n",
    "  print(current_state)\n",
    "\n",
    "\n",
    "print(\"The selected path:\")\n",
    "print(steps)"
   ]
  }
 ],
 "metadata": {
  "colab": {
   "collapsed_sections": [],
   "name": "Circular Maze Problem.ipynb",
   "provenance": []
  },
  "kernelspec": {
   "display_name": "Python 3",
   "language": "python",
   "name": "python3"
  },
  "language_info": {
   "codemirror_mode": {
    "name": "ipython",
    "version": 3
   },
   "file_extension": ".py",
   "mimetype": "text/x-python",
   "name": "python",
   "nbconvert_exporter": "python",
   "pygments_lexer": "ipython3",
   "version": "3.8.8"
  }
 },
 "nbformat": 4,
 "nbformat_minor": 1
}
